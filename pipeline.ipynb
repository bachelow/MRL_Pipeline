{
 "cells": [
  {
   "cell_type": "markdown",
   "id": "b470d323",
   "metadata": {},
   "source": [
    "# EU MRL Compliance Pipeline "
   ]
  },
  {
   "cell_type": "markdown",
   "id": "2850034c",
   "metadata": {},
   "source": [
    "## Imports & loading data"
   ]
  },
  {
   "cell_type": "code",
   "execution_count": 1,
   "id": "6555b1fa-9cca-489d-925f-9a4f2c59314a",
   "metadata": {},
   "outputs": [],
   "source": [
    "import pandas as pd\n",
    "import json\n",
    "import os \n",
    "    \n",
    "from openai import OpenAI\n",
    "\n",
    "from utils import create_and_dump_data, pdf_to_base64_images, fetch_mrl_data\n",
    "from utils import EXAMPLES_PATH, JSON_PATH, system_prompt_json\n",
    "from api_key import OPENAI_API_KEY"
   ]
  },
  {
   "cell_type": "code",
   "execution_count": 2,
   "id": "06efd8cd-6585-43ab-a235-d0ef7681f390",
   "metadata": {},
   "outputs": [],
   "source": [
    "if not os.path.exists(\"eu_products.csv\") or not os.path.exists(\"eu_pesticides.csv\"):\n",
    "    create_and_dump_data()"
   ]
  },
  {
   "cell_type": "code",
   "execution_count": 3,
   "id": "aa95c629",
   "metadata": {},
   "outputs": [],
   "source": [
    "pest = pd.read_csv(\"eu_pesticides.csv\", sep=\"|\")\n",
    "prod = pd.read_csv(\"eu_products.csv\", sep=\"|\")"
   ]
  },
  {
   "cell_type": "markdown",
   "id": "edfb8f0c",
   "metadata": {},
   "source": [
    "## Main Analysis Function"
   ]
  },
  {
   "cell_type": "code",
   "execution_count": 4,
   "id": "87fe8d52",
   "metadata": {},
   "outputs": [],
   "source": [
    "def analyze_lab_report(pdf_path: str, model: str = \"gpt-4o\"):\n",
    "    \"\"\"\n",
    "    Analyse a base64-encoded PDF laboratory report using OpenAI Vision API and extract structured information as JSON.\n",
    "    \"\"\"\n",
    "\n",
    "    # Init\n",
    "    client = OpenAI(api_key=OPENAI_API_KEY)\n",
    "    \n",
    "    # Convert Imgs to Base64 and prepare messages\n",
    "    images_base64 = pdf_to_base64_images(pdf_path)\n",
    "    content = [\n",
    "        {\"type\": \"text\", \"text\": \"Analyze this laboratory report and extract the information as JSON.\"}\n",
    "    ]\n",
    "    \n",
    "    # There can be multiple images (one per page)\n",
    "    for img_b64 in images_base64:\n",
    "        content.append({\n",
    "            \"type\": \"image_url\",\n",
    "            \"image_url\": {\n",
    "                \"url\": f\"data:image/png;base64,{img_b64}\",\n",
    "                \"detail\": \"high\"\n",
    "            }\n",
    "        })\n",
    "    \n",
    "    response = client.chat.completions.create(\n",
    "        model=model,\n",
    "        messages=[\n",
    "            {\"role\": \"system\", \"content\": system_prompt_json},\n",
    "            {\"role\": \"user\", \"content\": content}\n",
    "        ],\n",
    "        max_tokens=4096,\n",
    "        temperature=0\n",
    "    )\n",
    "    \n",
    "    result_text = response.choices[0].message.content\n",
    "    \n",
    "    # Parsing\n",
    "    try:\n",
    "        # Clean potential markdown formatting\n",
    "        if \"```json\" in result_text:\n",
    "            result_text = result_text.split(\"```json\")[1].split(\"```\")[0].strip()\n",
    "        elif \"```\" in result_text:\n",
    "            result_text = result_text.split(\"```\")[1].split(\"```\")[0].strip()\n",
    "        \n",
    "        result_json = json.loads(result_text)\n",
    "        return result_json\n",
    "    except json.JSONDecodeError:\n",
    "        print(\"Error parsing JSON :\")\n",
    "        print(result_text)\n",
    "        return {\"error\": \"JSON parsing failed\", \"raw_response\": result_text}"
   ]
  },
  {
   "cell_type": "markdown",
   "id": "4a215968",
   "metadata": {},
   "source": [
    "## Pipeline "
   ]
  },
  {
   "cell_type": "code",
   "execution_count": 5,
   "id": "e5bee977",
   "metadata": {},
   "outputs": [
    {
     "name": "stdout",
     "output_type": "stream",
     "text": [
      "Converting 1 page(s) in base64 images...\n",
      "  Page 1/1 done\n",
      "\n",
      "==================================================\n",
      "RÉSULTAT DE L'ANALYSE:\n",
      "==================================================\n",
      "{'Product': 'Mango', 'Product_EU': 'Mango', 'Substances': [{'Name': 'Azoxystrobine', 'Name_EU': 'Azoxystrobin', 'MRL': '4.0'}]}\n",
      "Converting 2 page(s) in base64 images...\n",
      "  Page 1/2 done\n",
      "  Page 2/2 done\n",
      "\n",
      "==================================================\n",
      "RÉSULTAT DE L'ANALYSE:\n",
      "==================================================\n",
      "{'Product': 'piñas - fruta', 'Product_EU': 'pineapples - fruit', 'Substances': [{'Name': 'etefon', 'Name_EU': 'ethephon', 'MRL': '2 mg/kg'}]}\n",
      "Converting 1 page(s) in base64 images...\n",
      "  Page 1/1 done\n",
      "\n",
      "==================================================\n",
      "RÉSULTAT DE L'ANALYSE:\n",
      "==================================================\n",
      "{'Product': 'Ananas', 'Product_EU': 'Pineapple', 'Substances': [{'Name': 'Ethephon', 'Name_EU': 'Ethephon', 'MRL': '2'}, {'Name': 'Fludioxonil', 'Name_EU': 'Fludioxonil', 'MRL': '7'}]}\n"
     ]
    }
   ],
   "source": [
    "for pdf_file in os.listdir(EXAMPLES_PATH):\n",
    "    \n",
    "    pdf_path = os.path.join(EXAMPLES_PATH, pdf_file)\n",
    "    # # DEBUG\n",
    "    # images_base64 = pdf_to_base64_images(pdf_path)\n",
    "    # print(f\"{len(images_base64[0])}\")\n",
    "    \n",
    "    # Pipeline\n",
    "    result = analyze_lab_report(pdf_path)\n",
    "    print(\"\\n\" + \"=\"*50)\n",
    "    print(\"RÉSULTAT DE L'ANALYSE:\")\n",
    "    print(\"=\"*50)\n",
    "    print(result)\n",
    "\n",
    "    # Saving JSON outputs\n",
    "    json_filename = os.path.splitext(pdf_file)[0] + \".json\"\n",
    "    output_file = os.path.join(JSON_PATH, json_filename)\n",
    "    with open(output_file, 'w', encoding='utf-8') as f:\n",
    "        json.dump(result, f, indent=2, ensure_ascii=False)\n"
   ]
  },
  {
   "cell_type": "markdown",
   "id": "555e40ab",
   "metadata": {},
   "source": [
    "## MRL Compliance Analysis"
   ]
  },
  {
   "cell_type": "code",
   "execution_count": 6,
   "id": "8ba0b9c7",
   "metadata": {},
   "outputs": [
    {
     "name": "stdout",
     "output_type": "stream",
     "text": [
      "MRL data found for product 'Mango' and substance 'Azoxystrobin'.\n",
      "MRL options from EU database: No MRL required\n",
      "MRL value from report: 4.0\n",
      "\n",
      "==================================================\n",
      "COMPLIANCE RESULT:\n",
      "==================================================\n",
      "CONFORME\n",
      "\n",
      "--------------------------------------------------\n",
      "\n",
      "--------------------------------------------------\n",
      "MRL data found for product 'Pineapple' and substance 'Ethephon'.\n",
      "MRL options from EU database: 0.03*\n",
      "MRL value from report: 2.0\n",
      "\n",
      "==================================================\n",
      "COMPLIANCE RESULT:\n",
      "==================================================\n",
      "NON CONFORME\n",
      "\n",
      "--------------------------------------------------\n",
      "MRL data found for product 'Pineapple' and substance 'Fludioxonil'.\n",
      "MRL options from EU database: 0.01*\n",
      "MRL value from report: 7.0\n",
      "\n",
      "==================================================\n",
      "COMPLIANCE RESULT:\n",
      "==================================================\n",
      "NON CONFORME\n",
      "\n",
      "--------------------------------------------------\n"
     ]
    }
   ],
   "source": [
    "for jsons in os.listdir(JSON_PATH):\n",
    "    \n",
    "    json_path = os.path.join(JSON_PATH, jsons)\n",
    "    with open(json_path, 'r', encoding='utf-8') as f:\n",
    "        data = json.load(f)\n",
    "    \n",
    "    product_name = data.get(\"Product_EU\", \"\")\n",
    "    \n",
    "    for substances in data.get(\"Substances\", []):\n",
    "        \n",
    "        substance_name = substances.get(\"Name_EU\", \"\")\n",
    "        mrl_value = float(substances.get(\"MRL\", \"0\").replace(\"mg/kg\", \"\").strip())\n",
    "        fetch_mrl_data(product_name, substance_name, mrl_value)\n",
    "        print(\"\\n\" + \"-\"*50)\n",
    "    "
   ]
  },
  {
   "cell_type": "code",
   "execution_count": null,
   "id": "e8507650",
   "metadata": {},
   "outputs": [],
   "source": []
  }
 ],
 "metadata": {
  "kernelspec": {
   "display_name": "tracklab",
   "language": "python",
   "name": "python3"
  },
  "language_info": {
   "codemirror_mode": {
    "name": "ipython",
    "version": 3
   },
   "file_extension": ".py",
   "mimetype": "text/x-python",
   "name": "python",
   "nbconvert_exporter": "python",
   "pygments_lexer": "ipython3",
   "version": "3.12.3"
  }
 },
 "nbformat": 4,
 "nbformat_minor": 5
}

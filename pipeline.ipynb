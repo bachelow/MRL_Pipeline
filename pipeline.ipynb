{
 "cells": [
  {
   "cell_type": "markdown",
   "id": "b470d323",
   "metadata": {},
   "source": [
    "# EU MRL Compliance Pipeline "
   ]
  },
  {
   "cell_type": "markdown",
   "id": "2850034c",
   "metadata": {},
   "source": [
    "## Imports & loading data"
   ]
  },
  {
   "cell_type": "code",
   "execution_count": 1,
   "id": "6555b1fa-9cca-489d-925f-9a4f2c59314a",
   "metadata": {},
   "outputs": [],
   "source": [
    "import pandas as pd\n",
    "import json\n",
    "import os \n",
    "    \n",
    "from openai import OpenAI\n",
    "\n",
    "from utils import create_and_dump_data, pdf_to_base64_images\n",
    "from utils import EXAMPLES_PATH, JSON_PATH, system_prompt_json"
   ]
  },
  {
   "cell_type": "code",
   "execution_count": 2,
   "id": "06efd8cd-6585-43ab-a235-d0ef7681f390",
   "metadata": {},
   "outputs": [],
   "source": [
    "if not os.path.exists(\"eu_products.csv\") or not os.path.exists(\"eu_pesticides.csv\"):\n",
    "    create_and_dump_data()"
   ]
  },
  {
   "cell_type": "code",
   "execution_count": 3,
   "id": "aa95c629",
   "metadata": {},
   "outputs": [],
   "source": [
    "pest = pd.read_csv(\"eu_pesticides.csv\", sep=\"|\")\n",
    "prod = pd.read_csv(\"eu_products.csv\", sep=\"|\")"
   ]
  },
  {
   "cell_type": "code",
   "execution_count": 4,
   "id": "87fe8d52",
   "metadata": {},
   "outputs": [],
   "source": [
    "def analyze_lab_report(pdf_path, api_key, model=\"gpt-4o\"):\n",
    "    \"\"\"\n",
    "    Analyse a base64-encoded PDF laboratory report using OpenAI Vision API and extract structured information as JSON.\n",
    "    \"\"\"\n",
    "\n",
    "    # Init\n",
    "    client = OpenAI(api_key=api_key)\n",
    "    \n",
    "    # Convertir le PDF en images\n",
    "    images_base64 = pdf_to_base64_images(pdf_path)\n",
    "    \n",
    "    # Préparer le contenu avec toutes les images\n",
    "    content = [\n",
    "        {\"type\": \"text\", \"text\": \"Analyze this laboratory report and extract the information as JSON.\"}\n",
    "    ]\n",
    "    \n",
    "    # There can be multiple images (one per page)\n",
    "    for img_b64 in images_base64:\n",
    "        content.append({\n",
    "            \"type\": \"image_url\",\n",
    "            \"image_url\": {\n",
    "                \"url\": f\"data:image/png;base64,{img_b64}\",\n",
    "                \"detail\": \"high\"\n",
    "            }\n",
    "        })\n",
    "    \n",
    "    \n",
    "    response = client.chat.completions.create(\n",
    "        model=model,\n",
    "        messages=[\n",
    "            {\"role\": \"system\", \"content\": system_prompt_json},\n",
    "            {\"role\": \"user\", \"content\": content}\n",
    "        ],\n",
    "        max_tokens=4096,\n",
    "        temperature=0\n",
    "    )\n",
    "    \n",
    "    result_text = response.choices[0].message.content\n",
    "    \n",
    "    # Parsing\n",
    "    try:\n",
    "        # Clean potential markdown formatting\n",
    "        if \"```json\" in result_text:\n",
    "            result_text = result_text.split(\"```json\")[1].split(\"```\")[0].strip()\n",
    "        elif \"```\" in result_text:\n",
    "            result_text = result_text.split(\"```\")[1].split(\"```\")[0].strip()\n",
    "        \n",
    "        result_json = json.loads(result_text)\n",
    "        return result_json\n",
    "    except json.JSONDecodeError:\n",
    "        print(\"Erreur lors du parsing JSON. Réponse brute:\")\n",
    "        print(result_text)\n",
    "        return {\"error\": \"JSON parsing failed\", \"raw_response\": result_text}"
   ]
  },
  {
   "cell_type": "code",
   "execution_count": null,
   "id": "e5bee977",
   "metadata": {},
   "outputs": [
    {
     "name": "stdout",
     "output_type": "stream",
     "text": [
      "Converting 1 page(s) in base64 images...\n",
      "  Page 1/1 done\n",
      "635632\n",
      "Analysis-Example-1_B.json\n",
      "E:\\Taf\\Tests\\relasuitedetacandidatureseniordatascientistt\\json_outputs\\Analysis-Example-1_B.json\n"
     ]
    },
    {
     "ename": "NameError",
     "evalue": "name 'fdssd' is not defined",
     "output_type": "error",
     "traceback": [
      "\u001b[31m---------------------------------------------------------------------------\u001b[39m",
      "\u001b[31mNameError\u001b[39m                                 Traceback (most recent call last)",
      "\u001b[36mCell\u001b[39m\u001b[36m \u001b[39m\u001b[32mIn[5]\u001b[39m\u001b[32m, line 20\u001b[39m\n\u001b[32m     18\u001b[39m output_file = os.path.join(JSON_PATH, json_filename)\n\u001b[32m     19\u001b[39m \u001b[38;5;28mprint\u001b[39m(output_file)\n\u001b[32m---> \u001b[39m\u001b[32m20\u001b[39m \u001b[43mfdssd\u001b[49m\n\u001b[32m     21\u001b[39m \u001b[38;5;28;01mwith\u001b[39;00m \u001b[38;5;28mopen\u001b[39m(output_file, \u001b[33m'\u001b[39m\u001b[33mw\u001b[39m\u001b[33m'\u001b[39m, encoding=\u001b[33m'\u001b[39m\u001b[33mutf-8\u001b[39m\u001b[33m'\u001b[39m) \u001b[38;5;28;01mas\u001b[39;00m f:\n\u001b[32m     22\u001b[39m     json.dump(result, f, indent=\u001b[32m2\u001b[39m, ensure_ascii=\u001b[38;5;28;01mFalse\u001b[39;00m)\n",
      "\u001b[31mNameError\u001b[39m: name 'fdssd' is not defined"
     ]
    }
   ],
   "source": [
    "for pdf_file in os.listdir(EXAMPLES_PATH):\n",
    "    \n",
    "    pdf_path = os.path.join(EXAMPLES_PATH, pdf_file)\n",
    "    # DEBUG\n",
    "    images_base64 = pdf_to_base64_images(pdf_path)\n",
    "    print(f\"{len(images_base64[0])}\")\n",
    "    \n",
    "    # Pipeline\n",
    "    # result = analyze_lab_report(pdf_path, api_key, model=\"gpt-4o\")\n",
    "    # print(\"\\n\" + \"=\"*50)\n",
    "    # print(\"RÉSULTAT DE L'ANALYSE:\")\n",
    "    # print(\"=\"*50)\n",
    "    # print(result)\n",
    "\n",
    "    # Saving JSON outputs\n",
    "    json_filename = os.path.splitext(pdf_file)[0] + \".json\"\n",
    "    output_file = os.path.join(JSON_PATH, json_filename)\n",
    "    with open(output_file, 'w', encoding='utf-8') as f:\n",
    "        json.dump(result, f, indent=2, ensure_ascii=False)\n"
   ]
  },
  {
   "cell_type": "code",
   "execution_count": null,
   "id": "8ba0b9c7",
   "metadata": {},
   "outputs": [],
   "source": []
  }
 ],
 "metadata": {
  "kernelspec": {
   "display_name": "tracklab",
   "language": "python",
   "name": "python3"
  },
  "language_info": {
   "codemirror_mode": {
    "name": "ipython",
    "version": 3
   },
   "file_extension": ".py",
   "mimetype": "text/x-python",
   "name": "python",
   "nbconvert_exporter": "python",
   "pygments_lexer": "ipython3",
   "version": "3.12.3"
  }
 },
 "nbformat": 4,
 "nbformat_minor": 5
}
